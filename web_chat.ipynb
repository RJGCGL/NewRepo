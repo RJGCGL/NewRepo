{
 "cells": [
  {
   "cell_type": "code",
   "id": "initial_id",
   "metadata": {
    "collapsed": true
   },
   "source": [
    "from typing import Annotated\n",
    "from ollama import chat\n",
    "from typing_extensions import TypedDict\n",
    "from langchain.schema import HumanMessage, AIMessage  # 导入消息类型\n",
    "\n",
    "from langgraph.graph import StateGraph\n",
    "from langgraph.graph.message import add_messages\n",
    "\n",
    "\n",
    "class State(TypedDict):\n",
    "    messages: Annotated[list, add_messages]\n",
    "\n",
    "graph_builder = StateGraph(State)"
   ],
   "outputs": [],
   "execution_count": null
  },
  {
   "metadata": {},
   "cell_type": "code",
   "source": [
    "from flask import Flask, render_template, request, jsonify\n",
    "\n",
    "app = Flask(__name__)"
   ],
   "id": "b101757e1f2ae3ba",
   "outputs": [],
   "execution_count": null
  },
  {
   "metadata": {},
   "cell_type": "code",
   "source": [
    "from flask_cors import CORS\n",
    "\n",
    "# 在 Flask 应用中启用 CORS\n",
    "CORS(app)"
   ],
   "id": "1176669bb37c647b",
   "outputs": [],
   "execution_count": null
  },
  {
   "metadata": {},
   "cell_type": "code",
   "source": [
    "def chatbot(state: State):\n",
    "    messages = state[\"messages\"]\n",
    "\n",
    "    # 格式化消息\n",
    "    formatted_messages = []\n",
    "    for msg in messages:\n",
    "        if isinstance(msg, HumanMessage):\n",
    "            formatted_messages.append(HumanMessage(content=msg.content, role=\"user\"))\n",
    "        elif isinstance(msg, AIMessage):\n",
    "            formatted_messages.append(AIMessage(content=msg.content, role=\"assistant\"))\n",
    "        else:\n",
    "            formatted_messages.append(HumanMessage(content=msg[\"content\"], role=\"user\"))\n",
    "\n",
    "    response = \"\"\n",
    "    for part in chat('deepseek-r1:1.5b', messages=formatted_messages, stream=True):\n",
    "        response += part['message']['content']\n",
    "\n",
    "    return {\"messages\": [{\"role\": \"assistant\", \"content\": response}]}"
   ],
   "id": "73d08d963989d299",
   "outputs": [],
   "execution_count": null
  },
  {
   "metadata": {},
   "cell_type": "code",
   "source": [
    "# 添加节点到状态图\n",
    "graph_builder.add_node(\"chatbot\", chatbot)\n",
    "graph_builder.set_entry_point(\"chatbot\")\n",
    "graph_builder.set_finish_point(\"chatbot\")\n",
    "graph = graph_builder.compile()"
   ],
   "id": "a2a64ac02d2f3573",
   "outputs": [],
   "execution_count": null
  },
  {
   "metadata": {},
   "cell_type": "code",
   "source": [
    "@app.route('/')\n",
    "def web_chat():\n",
    "    return render_template('index.html')  # 载入聊天页面"
   ],
   "id": "2e67a354721585ce",
   "outputs": [],
   "execution_count": null
  },
  {
   "metadata": {},
   "cell_type": "code",
   "source": [
    "@app.route('/chat', methods=['POST'])\n",
    "def chat_endpoint():\n",
    "    print(\"Received request at /chat endpoint.\")  # 添加这行日志\n",
    "    user_input = request.json.get(\"user_input\")\n",
    "    if not user_input:\n",
    "        print(\"Error: No user input received.\")\n",
    "        return jsonify({\"error\": \"No user input received.\"}), 400\n",
    "    print(f\"User input: {user_input}\")\n",
    "\n",
    "    state = {\"messages\": [{\"role\": \"user\", \"content\": user_input}]}\n",
    "    result = list(graph.stream(state))\n",
    "\n",
    "    response = result[0][\"chatbot\"][\"messages\"][-1][\"content\"]\n",
    "\n",
    "    print(f\"Assistant response: {response}\")\n",
    "\n",
    "    return jsonify({\"assistant_response\": response})\n",
    "\n",
    "\n",
    "if __name__ == '__main__':\n",
    "    app.run(debug=True, use_reloader=False)\n"
   ],
   "id": "51fdfcddc985c662",
   "outputs": [],
   "execution_count": null
  }
 ],
 "metadata": {
  "kernelspec": {
   "display_name": "Python 3",
   "language": "python",
   "name": "python3"
  },
  "language_info": {
   "codemirror_mode": {
    "name": "ipython",
    "version": 2
   },
   "file_extension": ".py",
   "mimetype": "text/x-python",
   "name": "python",
   "nbconvert_exporter": "python",
   "pygments_lexer": "ipython2",
   "version": "2.7.6"
  }
 },
 "nbformat": 4,
 "nbformat_minor": 5
}
